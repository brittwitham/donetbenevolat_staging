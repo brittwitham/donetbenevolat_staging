{
 "cells": [
  {
   "cell_type": "code",
   "execution_count": null,
   "metadata": {},
   "outputs": [],
   "source": []
  },
  {
   "cell_type": "code",
   "execution_count": 4,
   "metadata": {},
   "outputs": [],
   "source": [
    "def generate_conversion_command(orig_file, target_dir, orig_code):\n",
    "    \n",
    "    command_template = f\"python run_conversion.py --original_file {orig_file}.py --target_directory {target_dir} --original_code {orig_code}\"\n",
    "    \n",
    "    return command_template\n"
   ]
  },
  {
   "cell_type": "code",
   "execution_count": 12,
   "metadata": {},
   "outputs": [
    {
     "data": {
      "text/plain": [
       "'python run_conversion.py --original_file A_quels_types_organismes_fait_on_don_de_son_temps_au_Canada_2018.py --target_directory WTOV_2018_FR --original_code WTO0207'"
      ]
     },
     "execution_count": 12,
     "metadata": {},
     "output_type": "execute_result"
    }
   ],
   "source": [
    "# Comprendre_les_grands_donateurs_2018\t\t\t\tUTD\t2018\tFR\tUTD0103\tUTD_2018_FR\t\t\t\tfrom apps.UTD_2018_FR.app_layout import layout as UTD_2018_FR_layout\tgit commit -m \"adds UTD_2018_FR\"\tFALSE\thttp://127.0.0.1:8050/Comprendre_les_grands_donateurs_2018\t\t\t\t\t\t\t\tautopep8 --in-place --aggressive --aggressive --recursive UTD_2018_FR\t\t\t\t\tpython convert.py Comprendre_les_grands_donateurs_2018.py UTD_2018_FR\t./copy.sh  /Users/britt/repos/donetbenevolat/utils/data/UTD0103_data_utils.py /Users/britt/repos/donetbenevolat/apps/UTD_2018_FR/data_utils.py\t./copy.sh  /Users/britt/repos/donetbenevolat/utils/graphs/UTD0103_graph_utils.py /Users/britt/repos/donetbenevolat/apps/UTD_2018_FR/graphs.py\t\t\t\t\t\t\t\t\t\t\t\t\n",
    "\n",
    "generate_conversion_command(\n",
    "    orig_file=\"A_quels_types_organismes_fait_on_don_de_son_temps_au_Canada_2018\",\n",
    "    target_dir=\"WTOV_2018_FR\",\n",
    "    orig_code=\"WTO0207\"\n",
    ")"
   ]
  },
  {
   "cell_type": "code",
   "execution_count": null,
   "metadata": {},
   "outputs": [],
   "source": []
  },
  {
   "cell_type": "code",
   "execution_count": null,
   "metadata": {},
   "outputs": [],
   "source": []
  }
 ],
 "metadata": {
  "kernelspec": {
   "display_name": "vc",
   "language": "python",
   "name": "python3"
  },
  "language_info": {
   "codemirror_mode": {
    "name": "ipython",
    "version": 3
   },
   "file_extension": ".py",
   "mimetype": "text/x-python",
   "name": "python",
   "nbconvert_exporter": "python",
   "pygments_lexer": "ipython3",
   "version": "3.10.14"
  }
 },
 "nbformat": 4,
 "nbformat_minor": 2
}
